{
  "nbformat": 4,
  "nbformat_minor": 0,
  "metadata": {
    "colab": {
      "provenance": [],
      "authorship_tag": "ABX9TyMFdacpYW3Xr+VlEtRoo5YO",
      "include_colab_link": true
    },
    "kernelspec": {
      "name": "python3",
      "display_name": "Python 3"
    },
    "language_info": {
      "name": "python"
    }
  },
  "cells": [
    {
      "cell_type": "markdown",
      "metadata": {
        "id": "view-in-github",
        "colab_type": "text"
      },
      "source": [
        "<a href=\"https://colab.research.google.com/github/radhapend/Infosys_Assignemnets/blob/main/AI_Storyteller.ipynb\" target=\"_parent\"><img src=\"https://colab.research.google.com/assets/colab-badge.svg\" alt=\"Open In Colab\"/></a>"
      ]
    },
    {
      "cell_type": "code",
      "source": [
        "import requests\n",
        "API_KEY = \"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\""
      ],
      "metadata": {
        "id": "G8YtdPnM8GrG"
      },
      "execution_count": null,
      "outputs": []
    },
    {
      "cell_type": "code",
      "source": [
        "import json\n",
        "url = \"https://api.groq.com/openai/v1/chat/completions\""
      ],
      "metadata": {
        "id": "vIAmB_maDM2h"
      },
      "execution_count": null,
      "outputs": []
    },
    {
      "cell_type": "code",
      "source": [
        "messages = [{\"role\": \"system\",\n",
        "             \"content\": \"You are an AI storyteller\"\n",
        "          }]\n",
        "while True:\n",
        "    prompt = input(\"Enter a story title (or type quit): \")\n",
        "    if prompt.lower() == \"quit\":\n",
        "        print(\"The story ends here.\")\n",
        "        break\n",
        "\n",
        "    messages.append({\"role\": \"user\",\n",
        "                     \"content\": f\"Generate a story based on the title: '{prompt}'.\"\n",
        "                    })\n",
        "\n",
        "    data = {\"messages\": messages,\n",
        "            \"model\": \"llama3-8b-8192\",\n",
        "            \"temperature\": 0\n",
        "           }\n",
        "    headers = {\"Content-Type\": \"application/json\",\n",
        "               \"Authorization\": f\"Bearer {API_KEY}\"\n",
        "              }\n",
        "    res = requests.post(url, json=data, headers=headers)\n",
        "    story_response = res.json()[\"choices\"][0][\"message\"][\"content\"]\n",
        "    print(\"\\nAI Storyteller:\\n\", story_response, \"\\n\")\n",
        "\n",
        "    messages.append({\"role\": \"assistant\",\n",
        "                     \"content\": story_response\n",
        "                    })\n"
      ],
      "metadata": {
        "colab": {
          "base_uri": "https://localhost:8080/"
        },
        "id": "a-JLTF4T8Gwp",
        "outputId": "2c1c5cee-2214-4046-e05c-436442adf062"
      },
      "execution_count": null,
      "outputs": [
        {
          "output_type": "stream",
          "name": "stdout",
          "text": [
            "\n",
            "AI Storyteller:\n",
            " What a delightfully twisted idea! Here's a horror story inspired by the classic cartoon rivalry between Tom and Jerry:\n",
            "\n",
            "**The Eternal Pursuit**\n",
            "\n",
            "In the sleepy town of Willow Creek, a strange phenomenon had been plaguing the residents for weeks. It started with small, seemingly insignificant events: a missing cat here, a knocked-over trash can there. But as the days passed, the occurrences grew more frequent and more sinister.\n",
            "\n",
            "At the center of the chaos was Tom, a once-beloved feline who had become a malevolent force. His eyes had turned a glowing yellow, and his once-luxurious fur now hung in matted, dirty clumps. Jerry, the quick-witted mouse, was the only one who seemed immune to Tom's newfound terror.\n",
            "\n",
            "As the townsfolk cowered in fear, Tom's relentless pursuit of Jerry became an all-consuming obsession. He would appear in the dead of night, his eyes blazing with an otherworldly intensity, as he stalked his prey through the shadows. Jerry, ever the cunning foe, would lead Tom on a merry chase, always staying just out of reach.\n",
            "\n",
            "But as the days turned into weeks, Jerry began to notice a change within himself. He felt an eerie connection to Tom, as if their eternal rivalry had awakened a dark power within him. The mouse's once-sharp mind grew cloudy, and his usually quick reflexes became sluggish and uncertain.\n",
            "\n",
            "One fateful night, Jerry stumbled upon an ancient tome hidden deep within the town's library. The cover was adorned with strange symbols, and the pages were filled with cryptic incantations. As Jerry flipped through the book, he discovered that it was a ritual guide for summoning and binding demonic entities.\n",
            "\n",
            "In a moment of madness, Jerry decided to use the book to curse Tom, hoping to finally put an end to their never-ending game of cat and mouse. But as he spoke the words of the incantation, he felt a dark energy coursing through his veins. The ritual had awakened a malevolent force, one that would forever change the dynamics of their twisted game.\n",
            "\n",
            "Tom, now a vessel for the demonic entity, became an unstoppable force of terror. His eyes blazed with an unholy power, and his once-luxurious fur now seemed to writhe and twist like living serpents. Jerry, now a pawn in the game of darkness, was forced to flee for his life as Tom's relentless pursuit became a never-ending nightmare.\n",
            "\n",
            "As the townsfolk cowered in fear, they realized that the eternal rivalry between Tom and Jerry had become a horror beyond their wildest imagination. The two former adversaries were now bound together by a dark and ancient power, doomed to chase each other through the shadows for eternity.\n",
            "\n",
            "And so, the people of Willow Creek whispered of the cursed duo, forever trapped in a cycle of terror and pursuit. For in that town, the line between cartoon chaos and true horror had been forever blurred, and the eternal pursuit of Tom and Jerry had become a living nightmare. \n",
            "\n",
            "Enter a story title (or type quit): quit\n",
            "The story ends here.\n"
          ]
        }
      ]
    },
    {
      "cell_type": "code",
      "source": [],
      "metadata": {
        "id": "Emj4l6J18zbr"
      },
      "execution_count": null,
      "outputs": []
    }
  ]
}