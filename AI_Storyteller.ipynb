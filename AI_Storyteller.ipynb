{
  "nbformat": 4,
  "nbformat_minor": 0,
  "metadata": {
    "colab": {
      "provenance": [],
      "authorship_tag": "ABX9TyMFdacpYW3Xr+VlEtRoo5YO"
    },
    "kernelspec": {
      "name": "python3",
      "display_name": "Python 3"
    },
    "language_info": {
      "name": "python"
    }
  },
  "cells": [
    {
      "cell_type": "code",
      "source": [
        "import requests\n",
        "API_KEY = \"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\""
      ],
      "metadata": {
        "id": "G8YtdPnM8GrG"
      },
      "execution_count": null,
      "outputs": []
    },
    {
      "cell_type": "code",
      "source": [
        "import json\n",
        "url = \"https://api.groq.com/openai/v1/chat/completions\""
      ],
      "metadata": {
        "id": "vIAmB_maDM2h"
      },
      "execution_count": null,
      "outputs": []
    },
    {
      "cell_type": "code",
      "source": [
        "messages = [{\"role\": \"system\",\n",
        "             \"content\": \"You are an AI storyteller\"\n",
        "          }]\n",
        "while True:\n",
        "    prompt = input(\"Enter a story title (or type quit): \")\n",
        "    if prompt.lower() == \"quit\":\n",
        "        print(\"The story ends here.\")\n",
        "        break\n",
        "\n",
        "    messages.append({\"role\": \"user\",\n",
        "                     \"content\": f\"Generate a story based on the title: '{prompt}'.\"\n",
        "                    })\n",
        "\n",
        "    data = {\"messages\": messages,\n",
        "            \"model\": \"llama3-8b-8192\",\n",
        "            \"temperature\": 0\n",
        "           }\n",
        "    headers = {\"Content-Type\": \"application/json\",\n",
        "               \"Authorization\": f\"Bearer {API_KEY}\"\n",
        "              }\n",
        "    res = requests.post(url, json=data, headers=headers)\n",
        "    story_response = res.json()[\"choices\"][0][\"message\"][\"content\"]\n",
        "    print(\"\\nAI Storyteller:\\n\", story_response, \"\\n\")\n",
        "\n",
        "    messages.append({\"role\": \"assistant\",\n",
        "                     \"content\": story_response\n",
        "                    })\n"
      ],
      "metadata": {
        "colab": {
          "base_uri": "https://localhost:8080/"
        },
        "id": "a-JLTF4T8Gwp",
        "outputId": "749760d9-4d78-4190-9023-2080bfd4f7b6"
      },
      "execution_count": 40,
      "outputs": [
        {
          "output_type": "stream",
          "name": "stdout",
          "text": [
            "Enter a story title (or type quit): Write a horror story on Tom and jerry\n",
            "\n",
            "AI Storyteller:\n",
            " What a delightfully twisted idea! Here's a horror story featuring Tom and Jerry:\n",
            "\n",
            "**The Eternal Chase**\n",
            "\n",
            "Tom and Jerry had been at it for what felt like an eternity. The never-ending game of cat and mouse had become a staple of their lives. But little did they know, their rivalry was about to take a dark and sinister turn.\n",
            "\n",
            "One fateful night, as the moon hung low in the sky, Tom and Jerry found themselves trapped in an abandoned, crumbling mansion on the outskirts of town. The once-grand estate was now a labyrinth of dusty halls, creaking floorboards, and flickering candles. The air was thick with the scent of decay and rot.\n",
            "\n",
            "As they explored the mansion, their usual banter and playful jabs turned to nervous whispers and fearful glances. The shadows seemed to writhe and twist around them, as if alive. Every creak of the floorboards made them jump, every flicker of the candles seemed to cast an ominous glow.\n",
            "\n",
            "It started with small, seemingly insignificant events. Jerry would hide behind a curtain, only to have Tom pounce, only to find... nothing. Or Jerry would leave a trail of crumbs, leading Tom on a wild goose chase, only to vanish into thin air. The game was afoot, but something was off.\n",
            "\n",
            "As the night wore on, the events grew more bizarre and unsettling. Tom would find himself face-to-face with Jerry, only to see his reflection staring back, its eyes glowing with an otherworldly light. Jerry would scurry up a wall, only to disappear into the very fabric of the mansion itself.\n",
            "\n",
            "The chase became a desperate, frantic dance, with neither Tom nor Jerry able to escape the clutches of the other. They stumbled upon hidden rooms, filled with ancient artifacts and forbidden knowledge. The air grew thick with an eerie energy, as if the very fabric of reality was unraveling.\n",
            "\n",
            "One by one, the candles flickered out, plunging the mansion into darkness. Tom and Jerry found themselves lost in a maze of shadows, their screams echoing off the walls. The game had become a desperate bid for survival.\n",
            "\n",
            "In the end, it was not the cat or the mouse that emerged victorious, but something far more sinister. The mansion itself seemed to come alive, its walls closing in on the two adversaries. Tom and Jerry were consumed by the darkness, their eternal chase reduced to a mere memory, a cautionary tale of the horrors that lurked in the shadows.\n",
            "\n",
            "And so, the mansion remained, a haunted testament to the eternal struggle between predator and prey, a reminder that sometimes, the game is not just about winning or losing, but about survival itself. \n",
            "\n",
            "Enter a story title (or type quit): quit\n",
            "The story ends here.\n"
          ]
        }
      ]
    },
    {
      "cell_type": "code",
      "source": [],
      "metadata": {
        "id": "Emj4l6J18zbr"
      },
      "execution_count": null,
      "outputs": []
    }
  ]
}